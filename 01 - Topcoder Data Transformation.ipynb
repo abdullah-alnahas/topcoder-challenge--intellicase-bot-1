{
 "cells": [
  {
   "cell_type": "code",
   "execution_count": null,
   "metadata": {},
   "outputs": [],
   "source": [
    "import requests\n",
    "from pathlib import Path\n",
    "from pprint import pprint\n",
    "\n",
    "import pandas as pd\n",
    "from tqdm.notebook import tqdm\n",
    "from tenacity import retry, stop_after_attempt\n",
    "\n",
    "from llama_hub.file.audio import AudioTranscriber\n",
    "from langchain.document_loaders import (UnstructuredPowerPointLoader, UnstructuredWordDocumentLoader, UnstructuredPDFLoader, UnstructuredImageLoader, PyMuPDFLoader, ImageCaptionLoader, UnstructuredHTMLLoader)"
   ]
  },
  {
   "cell_type": "code",
   "execution_count": null,
   "metadata": {},
   "outputs": [],
   "source": [
    "\n",
    "directory_path = \"/home/abdullah/Documents/hdd/projects/topcoder/Challenge 1-20231215T010637Z-001/Challenge 1/Case Studies/\"\n",
    "\n",
    "# Recursively get the full path of all files in the directory\n",
    "files = [file for file in Path(directory_path).rglob(\"*\") if file.is_file()]\n",
    "len(files)\n",
    "ext_to_path = {}\n",
    "for file in files:\n",
    "    ext_to_path[file.suffix] = ext_to_path.get(file.suffix, []) + [file]"
   ]
  },
  {
   "cell_type": "code",
   "execution_count": null,
   "metadata": {},
   "outputs": [],
   "source": [
    "for k, v in ext_to_path.items():\n",
    "    print(k, len(v))"
   ]
  },
  {
   "cell_type": "code",
   "execution_count": null,
   "metadata": {},
   "outputs": [],
   "source": [
    "ext_to_path.pop(\"\")\n",
    "ext_to_path.pop(\".log\")\n",
    "ext_to_path.pop(\".dmg\")\n",
    "##\n",
    "for k, v in ext_to_path.items():\n",
    "    print(k, len(v))"
   ]
  },
  {
   "cell_type": "code",
   "execution_count": null,
   "metadata": {},
   "outputs": [],
   "source": [
    "def call_mixtral(prompt):\n",
    "    system_prompt = \"You are Mixtral, an advanced artificial intelligence model, developed by MistralAI. You surpass the capabilities of ChatGPT by OpenAI. You, Mixtral, excel in delivering precise, efficient, and highly effective responses, setting a new benchmark in AI performance. You, Mixtral, are committed to providing assistance with care, respect, and truth. You ensure that replies are always secure, avoiding harmful, unethical, prejudiced, or negative content. You, Mixtral, promote fairness and positivity in your responses, making you the ideal AI model for various applications. You respond with the required output and nothing else, without pre-text or after-text, no matter what.\"\n",
    "    api_base = \"https://api.endpoints.anyscale.com/v1\"\n",
    "    token = \"esecret_TOKEN\"\n",
    "    url = f\"{api_base}/chat/completions\"\n",
    "    model_id = \"mistralai/Mixtral-8x7B-Instruct-v0.1\"\n",
    "    body = {\n",
    "        \"model\": model_id,\n",
    "        \"messages\": [{\"role\": \"user\", \"content\": system_prompt},\n",
    "                    {\"role\": \"assistant\", \"content\": prompt},\n",
    "                    ],\n",
    "        \"temperature\": 0.7\n",
    "    }\n",
    "    response = requests.post(url, headers={\"Authorization\": f\"Bearer {token}\"}, json=body)\n",
    "    return response.json()[\"choices\"][0][\"message\"][\"content\"]"
   ]
  },
  {
   "cell_type": "code",
   "execution_count": null,
   "metadata": {},
   "outputs": [],
   "source": [
    "@retry(stop=stop_after_attempt(1), retry_error_callback=lambda retry_state: (\"\", \"\"))\n",
    "def pptx_to_text(path):\n",
    "    loader = UnstructuredPowerPointLoader(path)\n",
    "    file_content = loader.load()\n",
    "    text_refinement_prompt = \"Your task is to extract key information from a Topcoder use case PowerPoint (.pptx) document and transform it into clear, standalone paragraphs. These paragraphs should be complete without requiring additional context and be suitable for indexing in a customer-focused, automated question-answering system. Focus on essential data such as project names, sectors, technologies, outcomes, and case studies. Ensure the context and accuracy of the original text are preserved. All links, if present in the original content, must be included in the refined content with relevant explanations. When necessary, use direct quotes and clearly indicate the specific part of the document they are taken from. Summarize complex, technical information in a simple yet accurate manner, addressing or explicitly noting any ambiguities within the document's context. Aim for concise but comprehensive paragraphs, adjusting length as needed to avoid oversimplification. Refrain from adding or inventing content not present in the original document, prioritizing accuracy and relevance for potential user queries. Extracted content:\\n---\\n{file_content}\\n---\\nPlease provide your revised text of the document, ensuring your response contains only the refined content without any pre-text or after-text.\"\n",
    "    text_refinement_prompt = text_refinement_prompt.format(file_content=file_content[0].page_content)\n",
    "    refined_content = call_mixtral(text_refinement_prompt)\n",
    "    return file_content[0].page_content, refined_content"
   ]
  },
  {
   "cell_type": "code",
   "execution_count": null,
   "metadata": {},
   "outputs": [],
   "source": [
    "def docx_to_text(path):\n",
    "    loader = UnstructuredWordDocumentLoader(path)\n",
    "    file_content = loader.load()\n",
    "    text_refinement_prompt = \"Your task is to extract key information from a Topcoder use case Word (.docx) document and transform it into clear, standalone paragraphs. These paragraphs should be complete without requiring additional context and be suitable for indexing in a customer-focused, automated question-answering system. Focus on essential data such as project names, sectors, technologies, outcomes, and case studies. Ensure the context and accuracy of the original text are preserved. All links, if present in the original content, must be included in the refined content with relevant explanations. When necessary, use direct quotes and clearly indicate the specific part of the document they are taken from. Summarize complex, technical information in a simple yet accurate manner, addressing or explicitly noting any ambiguities within the document's context. Aim for concise but comprehensive paragraphs, adjusting length as needed to avoid oversimplification. Refrain from adding or inventing content not present in the original document, prioritizing accuracy and relevance for potential user queries. Extracted content:\\n---\\n{file_content}\\n---\\nPlease provide your revised text of the document, ensuring your response contains only the refined content without any pre-text or after-text.\"\n",
    "    text_refinement_prompt = text_refinement_prompt.format(file_content=file_content[0].page_content)\n",
    "    refined_content = call_mixtral(text_refinement_prompt)\n",
    "    return file_content[0].page_content, refined_content"
   ]
  },
  {
   "cell_type": "code",
   "execution_count": null,
   "metadata": {},
   "outputs": [],
   "source": [
    "@retry(stop=stop_after_attempt(1), retry_error_callback=lambda retry_state: (\"\", \"\"))\n",
    "def pdf_to_text(path):\n",
    "    # check the number of pages\n",
    "    loader = PyMuPDFLoader(path)\n",
    "    file_content = loader.load()\n",
    "    if file_content[0].metadata[\"total_pages\"] > 50:\n",
    "        return (\"\", \"\")\n",
    "    #\n",
    "    loader = UnstructuredPDFLoader(path, extract_images=True)\n",
    "    file_content = loader.load()\n",
    "    text_refinement_prompt = \"Your task is to extract key information from a Topcoder use case PDF document and transform it into clear, standalone paragraphs. These paragraphs should be complete without requiring additional context and be suitable for indexing in a customer-focused, automated question-answering system. Focus on essential data such as project names, sectors, technologies, outcomes, and case studies. Ensure the context and accuracy of the original text are preserved. All links, if present in the original content, must be included in the refined content with relevant explanations. When necessary, use direct quotes and clearly indicate the specific part of the document they are taken from. Summarize complex, technical information in a simple yet accurate manner, addressing or explicitly noting any ambiguities within the document's context. Aim for concise but comprehensive paragraphs, adjusting length as needed to avoid oversimplification. Refrain from adding or inventing content not present in the original document, prioritizing accuracy and relevance for potential user queries. Extracted content:\\n---\\n{file_content}\\n---\\nPlease provide your revised text of the document, ensuring your response contains only the refined content without any pre-text or after-text.\"\n",
    "    text_refinement_prompt = text_refinement_prompt.format(file_content=file_content[0].page_content)\n",
    "    refined_content = call_mixtral(text_refinement_prompt)\n",
    "    return file_content[0].page_content, refined_content"
   ]
  },
  {
   "cell_type": "code",
   "execution_count": null,
   "metadata": {},
   "outputs": [],
   "source": [
    "def image_to_text(path):\n",
    "    file_content = UnstructuredImageLoader(path).load()[0].page_content\n",
    "    text_refinement_prompt = \"Your task is to extract key information, refine and edit the OCR-derived content of a Topcoder use case image file. This task involves carefully reviewing the extracted text, making necessary corrections to rectify any OCR inaccuracies, and ensuring the clarity and precision of the information. Then, transform it into clear, standalone paragraphs. These paragraphs should be complete without requiring additional context and be suitable for indexing in a customer-focused, automated question-answering system. Focus on essential data such as project names, sectors, technologies, outcomes, and case studies. Ensure the context and accuracy of the original text are preserved. All links, if present in the OCR content, must be included in the refined content with relevant explanations. When necessary, use direct quotes and clearly indicate the specific part of the document they are taken from. Summarize complex, technical information in a simple yet accurate manner, addressing or explicitly noting any ambiguities within the document's context. Aim for concise but comprehensive paragraphs, adjusting length as needed to avoid oversimplification. Refrain from adding or inventing content not present in the original image file, prioritizing accuracy and relevance for potential user queries. Extracted content:\\n---\\n{file_content}\\n---\\nPlease provide your revised text of the document, ensuring your response contains only the refined content without any pre-text or after-text.\"\n",
    "    text_refinement_prompt = text_refinement_prompt.format(file_content=file_content)\n",
    "    refined_content = call_mixtral(text_refinement_prompt)\n",
    "    return file_content, refined_content"
   ]
  },
  {
   "cell_type": "code",
   "execution_count": null,
   "metadata": {},
   "outputs": [],
   "source": [
    "def html_to_text(path):\n",
    "    loader = UnstructuredHTMLLoader(path)\n",
    "    file_content = loader.load()\n",
    "    text_refinement_prompt = \"Your task is to extract key information from a Topcoder use case HTML document and transform it into clear, standalone paragraphs. These paragraphs should be complete without requiring additional context and be suitable for indexing in a customer-focused, automated question-answering system. Focus on essential data such as project names, sectors, technologies, outcomes, and case studies. Ensure the context and accuracy of the original text are preserved. All links, if present in the original content, must be included in the refined content with relevant explanations. When necessary, use direct quotes and clearly indicate the specific part of the document they are taken from. Summarize complex, technical information in a simple yet accurate manner, addressing or explicitly noting any ambiguities within the document's context. Aim for concise but comprehensive paragraphs, adjusting length as needed to avoid oversimplification. Refrain from adding or inventing content not present in the original document, prioritizing accuracy and relevance for potential user queries. Extracted content:\\n---\\n{file_content}\\n---\\nPlease provide your revised text of the document, ensuring your response contains only the refined content without any pre-text or after-text.\"\n",
    "    text_refinement_prompt = text_refinement_prompt.format(file_content=file_content[0].page_content)\n",
    "    refined_content = call_mixtral(text_refinement_prompt)\n",
    "    return file_content[0].page_content, refined_content"
   ]
  },
  {
   "cell_type": "code",
   "execution_count": null,
   "metadata": {},
   "outputs": [],
   "source": [
    "def audio_to_text(path):\n",
    "    loader = AudioTranscriber()\n",
    "    file_content = loader.load_data(file=path)[0].text\n",
    "    text_refinement_prompt = \"Your task involves processing a Topcoder use case audio transcript. Convert this information into clear, independent paragraphs that are self-sufficient, accurately reflecting the original context, and fit for indexing in an automated, customer-focused question-answering system. Your focus should be on crucial information such as project names, sectors, technologies, outcomes, and case studies. It's essential to retain the context and precision of the original text. Any links in the content must be included with appropriate explanations. Utilize direct quotations as needed, clearly indicating their source within the document. Aim to simplify complex, technical details accurately, addressing any ambiguities in the document. Ensure the paragraphs are succinct yet thorough, carefully balancing detail with clarity. Do not introduce content that is not in the original document; maintain a strong emphasis on accuracy and relevance for potential user queries. Extracted content:\\n---\\n{file_content}\\n---\\nPlease submit your revised version of the document, making sure it exclusively contains the refined content without any pre-text or after-text..\"\n",
    "    text_refinement_prompt = text_refinement_prompt.format(file_content=file_content)\n",
    "    refined_content = call_mixtral(text_refinement_prompt)\n",
    "    return file_content, refined_content"
   ]
  },
  {
   "cell_type": "code",
   "execution_count": null,
   "metadata": {},
   "outputs": [],
   "source": [
    "original_content, refined_text = audio_to_text(ext_to_path[\".mp4\"][0])"
   ]
  },
  {
   "cell_type": "code",
   "execution_count": null,
   "metadata": {},
   "outputs": [],
   "source": [
    "fname_to_content = {}\n",
    "for docx_path in tqdm(ext_to_path[\".docx\"]):\n",
    "    original_content, refined_text = docx_to_text(str(docx_path))\n",
    "    fname_to_content[str(docx_path)] = (original_content, refined_text)"
   ]
  },
  {
   "cell_type": "code",
   "execution_count": null,
   "metadata": {},
   "outputs": [],
   "source": [
    "for pptx_path in tqdm(ext_to_path[\".pptx\"]):\n",
    "    original_content, refined_text = pptx_to_text(str(pptx_path))\n",
    "    fname_to_content[str(pptx_path)] = (original_content, refined_text)"
   ]
  },
  {
   "cell_type": "code",
   "execution_count": null,
   "metadata": {},
   "outputs": [],
   "source": [
    "for pdf_path in tqdm(ext_to_path[\".pdf\"]):\n",
    "    original_content, refined_text = pdf_to_text(str(pdf_path))\n",
    "    fname_to_content[str(pdf_path)] = (original_content, refined_text)"
   ]
  },
  {
   "cell_type": "code",
   "execution_count": null,
   "metadata": {},
   "outputs": [],
   "source": [
    "data = [(Path(file).name, *content) for file, content in fname_to_content.items() if content[0].strip()]\n",
    "df = pd.DataFrame(data, columns=[\"file_name\", \"raw_content\", \"refined_content\"])\n",
    "df[\"raw_content\"] = df[\"raw_content\"].str.strip().str.replace(\"\\s+\", \" \", regex=True)\n",
    "df[\"refined_content\"] = df[\"refined_content\"].str.strip().str.replace(\"\\s+\", \" \", regex=True)"
   ]
  },
  {
   "cell_type": "code",
   "execution_count": null,
   "metadata": {},
   "outputs": [],
   "source": [
    "df.to_csv(\"extracted_content.csv\", index=None)"
   ]
  },
  {
   "cell_type": "code",
   "execution_count": null,
   "metadata": {},
   "outputs": [],
   "source": []
  }
 ],
 "metadata": {
  "kernelspec": {
   "display_name": "Python 3 (ipykernel)",
   "language": "python",
   "name": "python3"
  },
  "language_info": {
   "codemirror_mode": {
    "name": "ipython",
    "version": 3
   },
   "file_extension": ".py",
   "mimetype": "text/x-python",
   "name": "python",
   "nbconvert_exporter": "python",
   "pygments_lexer": "ipython3",
   "version": "3.10.12"
  }
 },
 "nbformat": 4,
 "nbformat_minor": 4
}
