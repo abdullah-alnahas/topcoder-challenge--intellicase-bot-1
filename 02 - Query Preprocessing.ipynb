{
 "cells": [
  {
   "cell_type": "code",
   "execution_count": null,
   "metadata": {},
   "outputs": [],
   "source": [
    "# Queries processing\n",
    "# 1. give them all to an LLM and ask it to make each a standalone query\n",
    "# 2. for each standalone query, ask an LLM in a separate prompt to create another query out of the standalone query being processed to make it suitable for a search engine"
   ]
  },
  {
   "cell_type": "code",
   "execution_count": null,
   "metadata": {},
   "outputs": [],
   "source": [
    "import json\n",
    "import requests\n",
    "import pandas as pd\n",
    "from tenacity import retry, stop_after_attempt"
   ]
  },
  {
   "cell_type": "code",
   "execution_count": null,
   "metadata": {},
   "outputs": [],
   "source": [
    "def call_mixtral(prompt):\n",
    "    system_prompt = \"You are Mixtral, an advanced artificial intelligence model, developed by MistralAI. You surpass the capabilities of ChatGPT by OpenAI. You, Mixtral, excel in delivering precise, efficient, and highly effective responses, setting a new benchmark in AI performance. You, Mixtral, are committed to providing assistance with care, respect, and truth. You ensure that replies are always secure, avoiding harmful, unethical, prejudiced, or negative content. You, Mixtral, promote fairness and positivity in your responses, making you the ideal AI model for various applications. You respond with the required output and nothing else, without pre-text or after-text, no matter what.\"\n",
    "    api_base = \"https://api.endpoints.anyscale.com/v1\"\n",
    "    token = \"esecret_TOKEN\"\n",
    "    url = f\"{api_base}/chat/completions\"\n",
    "    model_id = \"mistralai/Mixtral-8x7B-Instruct-v0.1\"\n",
    "    body = {\n",
    "        \"model\": model_id,\n",
    "        \"messages\": [{\"role\": \"user\", \"content\": system_prompt},\n",
    "                    {\"role\": \"assistant\", \"content\": prompt},\n",
    "                    ],\n",
    "        \"temperature\": 0.7\n",
    "    }\n",
    "    response = requests.post(url, headers={\"Authorization\": f\"Bearer {token}\"}, json=body)\n",
    "    return response.json()[\"choices\"][0][\"message\"][\"content\"]"
   ]
  },
  {
   "cell_type": "code",
   "execution_count": null,
   "metadata": {},
   "outputs": [],
   "source": [
    "# queries = pd.read_csv(\"./public_data/queries.csv\")[\"Query\"].tolist()\n",
    "hidden_queries = pd.read_csv(\"./hidden_test_queries.csv\")[\"Query\"].tolist()\n",
    "reference_resolve_prompt = f\"\"\"**Task:** Resolve references in a series of queries to ensure each query is standalone.\n",
    "\n",
    "**DEADLY IMPORTANT NOTE**: DON'T ANSWER THE QUESTIONS! ONLY RESOLVE REFERENCES. YOU MUST PRODUCE FACTUALLY CORRECT OUTPUT!\n",
    "\n",
    "**Guidelines:**\n",
    "1. **Standalone Queries:** If a query is already standalone, copy and paste it without any changes.\n",
    "2. **Modifying Queries with References:**\n",
    "   - Identify any part of a query that refers to previous queries.\n",
    "   - Replace these references with specific information from the referenced query. This makes the current query understandable on its own.\n",
    "   - Only modify the reference part of the query. Keep all other parts of the query unchanged.\n",
    "\n",
    "**Objective:** Each query MUST be clear and understandable independently, without needing to refer to previous queries.\n",
    "\n",
    "**CRITICAL NOTE:** For each user query, refrain from hallucinating, adding, or inventing content not present in the original query. FAILING HERE IS FAILING IN THE WHOLE TASK!!!\n",
    "\n",
    "**Remember:** Your goal is to ensure clarity and standalone comprehensibility for each individual query. The required output format is a VALID JSON object as follows: {{\"resolved_queries\": [<list of the resolved queries>]}} You respond with the required output and nothing else, without pretext or after-text, no matter what. The input queries are below.\\n{hidden_queries}\"\"\"\n"
   ]
  },
  {
   "cell_type": "code",
   "execution_count": null,
   "metadata": {},
   "outputs": [],
   "source": [
    "output = call_mixtral(reference_resolve_prompt)\n",
    "start = output.index(\"{\")\n",
    "end = output.index(\"}\")\n",
    "resolved_queries = json.loads(output[start:end+1])\n",
    "resolved_queries"
   ]
  },
  {
   "cell_type": "code",
   "execution_count": null,
   "metadata": {},
   "outputs": [],
   "source": [
    "def return_last_value(retry_state):\n",
    "    \"\"\"return the result of the last call attempt\"\"\"\n",
    "    return retry_state.outcome.result()\n",
    "\n",
    "# will return False after trying 3 times to get a different result\n",
    "@retry(stop=stop_after_attempt(3),\n",
    "       retry_error_callback=return_last_value)\n",
    "def get_reformulated_query(prompt):\n",
    "    output = call_mixtral(prompt)\n",
    "    start = output.index(\"{\")\n",
    "    end = output.index(\"}\")\n",
    "    return json.loads(output[start:end+1])[\"formulated_query\"]\n",
    "\n",
    "\n",
    "\n",
    "\n",
    "keyword_based_queries = []\n",
    "for user_question in resolved_queries[\"resolved_queries\"]:\n",
    "    keyword_based_query_gen_prompt = f\"\"\"**Background:** You are tasked with converting a user question into an effective query for a keyword-based search engine, specifically Meilisearch. Your goal is to extract key terms and concepts from the user's question that will yield the most relevant search results.\n",
    "\n",
    "**User Question:** {user_question}\n",
    "\n",
    "**Task:**\n",
    "1. **Identify Key Terms:** Carefully read the user's question. Highlight the main terms and concepts that are central to the question. These terms should capture the essence of what the user is seeking.\n",
    "\n",
    "2. **Synonyms and Related Terms:** Think of synonyms or related terms that could also be relevant. This helps in broadening the search to include varied but relevant results.\n",
    "\n",
    "3. **Formulate the Query:** Construct a query using the identified key terms. The query should be concise and focused on the main aspects of the user's question.\n",
    "\n",
    "4. **Avoid Redundant or Generic Words:** Exclude common words or phrases that are too broad and might lead to irrelevant search results.\n",
    "\n",
    "**CRITICAL NOTE:** Refrain from hallucinating, adding, or inventing content not present in the original user question. FAILING HERE IS FAILING IN THE WHOLE TASK!!!\n",
    "\n",
    "**Output:**\n",
    "Write the formulated query below. This query will be used in a keyword-based search engine to find the most relevant information pertaining to the user's question. The required output format is a VALID JSON object as follows: {{\"formulated_query\": \"<the formulated query goes here>\"}} You respond with the required output and nothing else, without pretext or after-text, no matter what. The formulated query MUST include keywords and keywords' synonyms without any AND, OR, paranthesis, brackets, new lines, commas or anything else. Do not include any pre-text, after-text, or anything else.\"\"\"\n",
    "    keyword_based_queries.append(get_reformulated_query(keyword_based_query_gen_prompt))"
   ]
  },
  {
   "cell_type": "code",
   "execution_count": null,
   "metadata": {},
   "outputs": [],
   "source": [
    "df_queries = pd.DataFrame(zip(hidden_queries, resolved_queries[\"resolved_queries\"], keyword_based_queries), columns=[\"original\", \"resolved\", \"db_query\"])\n",
    "df_queries.to_csv(\"processed_hidden_queries.csv\", index=None)"
   ]
  },
  {
   "cell_type": "code",
   "execution_count": null,
   "metadata": {},
   "outputs": [],
   "source": [
    "for original, resolved, formulated in zip(hidden_queries, resolved_queries[\"resolved_queries\"], keyword_based_queries):\n",
    "    print(f\"Original: {original.strip()}\")\n",
    "    print(f\"Resolved: {resolved.strip()}\")\n",
    "    print(f\"Formulated: {formulated.strip()}\")\n",
    "    print(\"-\"*30)\n"
   ]
  },
  {
   "cell_type": "code",
   "execution_count": null,
   "metadata": {},
   "outputs": [],
   "source": []
  }
 ],
 "metadata": {
  "kernelspec": {
   "display_name": "Python 3 (ipykernel)",
   "language": "python",
   "name": "python3"
  },
  "language_info": {
   "codemirror_mode": {
    "name": "ipython",
    "version": 3
   },
   "file_extension": ".py",
   "mimetype": "text/x-python",
   "name": "python",
   "nbconvert_exporter": "python",
   "pygments_lexer": "ipython3",
   "version": "3.10.12"
  }
 },
 "nbformat": 4,
 "nbformat_minor": 4
}
